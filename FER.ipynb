{
  "nbformat": 4,
  "nbformat_minor": 0,
  "metadata": {
    "accelerator": "GPU",
    "colab": {
      "name": "FER.ipynb",
      "provenance": [],
      "include_colab_link": true
    },
    "kernelspec": {
      "display_name": "Python 3",
      "language": "python",
      "name": "python3"
    },
    "language_info": {
      "codemirror_mode": {
        "name": "ipython",
        "version": 3
      },
      "file_extension": ".py",
      "mimetype": "text/x-python",
      "name": "python",
      "nbconvert_exporter": "python",
      "pygments_lexer": "ipython3",
      "version": "3.7.4"
    }
  },
  "cells": [
    {
      "cell_type": "markdown",
      "metadata": {
        "id": "view-in-github",
        "colab_type": "text"
      },
      "source": [
        "<a href=\"https://colab.research.google.com/github/amoghgopadi/Facial-Expression-Recognition/blob/main/FER.ipynb\" target=\"_parent\"><img src=\"https://colab.research.google.com/assets/colab-badge.svg\" alt=\"Open In Colab\"/></a>"
      ]
    },
    {
      "cell_type": "code",
      "metadata": {
        "colab": {
          "base_uri": "https://localhost:8080/"
        },
        "id": "WXUPqHbGt5Xh",
        "outputId": "d9ba602f-e906-442d-ae84-6bef1a430b65"
      },
      "source": [
        "from google.colab import drive\n",
        "drive.mount('/content/drive')"
      ],
      "execution_count": null,
      "outputs": [
        {
          "output_type": "stream",
          "text": [
            "Mounted at /content/drive\n"
          ],
          "name": "stdout"
        }
      ]
    },
    {
      "cell_type": "code",
      "metadata": {
        "id": "IwoWam7D3d1-"
      },
      "source": [
        "import os\n",
        "import pickle\n",
        "import pandas as pd\n",
        "import numpy as np\n",
        "import matplotlib.pyplot as plt\n",
        "from keras.models import Sequential, Model, model_from_json\n",
        "from keras.layers import Dense, Conv2D, Activation, MaxPool2D, Flatten, Dropout, BatchNormalization\n",
        "from keras.utils import np_utils\n",
        "from keras.callbacks import ModelCheckpoint\n",
        "from tensorflow.keras.models import load_model\n",
        "\n",
        "\n",
        "%matplotlib inline"
      ],
      "execution_count": null,
      "outputs": []
    },
    {
      "cell_type": "code",
      "metadata": {
        "id": "2q7bDV7kuSii"
      },
      "source": [
        "def restore_data(path):\n",
        "    data = dict()\n",
        "    if os.path.isfile(path):\n",
        "        file = open(path, 'rb')\n",
        "        data = pickle.load(file)\n",
        "    return data"
      ],
      "execution_count": null,
      "outputs": []
    },
    {
      "cell_type": "code",
      "metadata": {
        "colab": {
          "base_uri": "https://localhost:8080/"
        },
        "id": "bnmr6EE-syqT",
        "outputId": "7e2030cb-3b15-4582-c20d-759750cf4a05"
      },
      "source": [
        "print('Restore Training data from cache!')\n",
        "cache_path = '/content/drive/MyDrive/FER/train.dat'\n",
        "(x_train, y_train) = restore_data(cache_path)\n",
        "\n",
        "x_train = np.array(x_train, dtype=object)\n",
        "y_train = np.array(y_train, dtype=np.int64)\n",
        "x_train = x_train.reshape(-1, 48, 48, 1)\n",
        "y_train = np_utils.to_categorical(y_train)\n",
        "x_train = x_train.astype('float32')\n",
        "x_train /= 255\n",
        "print('X shape:', x_train.shape)\n",
        "print('Y shape:', y_train.shape)"
      ],
      "execution_count": null,
      "outputs": [
        {
          "output_type": "stream",
          "text": [
            "Restore Training data from cache!\n",
            "X shape: (47815, 48, 48, 1)\n",
            "Y shape: (47815, 5)\n"
          ],
          "name": "stdout"
        }
      ]
    },
    {
      "cell_type": "code",
      "metadata": {
        "colab": {
          "base_uri": "https://localhost:8080/"
        },
        "id": "TWgp9gfKwJQm",
        "outputId": "4e926c75-c0b7-43a7-910f-d1724b3da902"
      },
      "source": [
        "print('Restore Validation data from cache!')\n",
        "cache_path = '/content/drive/MyDrive/FER/valid.dat'\n",
        "(x_valid, y_valid) = restore_data(cache_path)\n",
        "\n",
        "x_valid = np.array(x_valid, dtype=object)\n",
        "y_valid = np.array(y_valid, dtype=np.int64)\n",
        "x_valid = x_valid.reshape(-1, 48, 48, 1)\n",
        "y_valid = np_utils.to_categorical(y_valid)\n",
        "x_valid = x_valid.astype('float32')\n",
        "x_valid /= 255\n",
        "print('X shape:', x_valid.shape)\n",
        "print('Y shape:', y_valid.shape)"
      ],
      "execution_count": null,
      "outputs": [
        {
          "output_type": "stream",
          "text": [
            "Restore Validation data from cache!\n",
            "X shape: (6157, 48, 48, 1)\n",
            "Y shape: (6157, 5)\n"
          ],
          "name": "stdout"
        }
      ]
    },
    {
      "cell_type": "code",
      "metadata": {
        "colab": {
          "base_uri": "https://localhost:8080/"
        },
        "id": "h5WQTlgMwdXf",
        "outputId": "ec38dceb-842d-463b-d2b5-be0b20e42464"
      },
      "source": [
        "print('Restore Testing data from cache!')\n",
        "cache_path = '/content/drive/MyDrive/FER/test.dat'\n",
        "(x_test, y_test) = restore_data(cache_path)\n",
        "\n",
        "x_test = np.array(x_test, dtype=object)\n",
        "y_test = np.array(y_test, dtype=np.int64)\n",
        "x_test = x_test.reshape(-1, 48, 48, 1)\n",
        "y_test = np_utils.to_categorical(y_test)\n",
        "x_test = x_test.astype('float32')\n",
        "x_test /= 255\n",
        "print('X shape:', x_test.shape)\n",
        "print('Y shape:', y_test.shape)"
      ],
      "execution_count": null,
      "outputs": [
        {
          "output_type": "stream",
          "text": [
            "Restore Testing data from cache!\n",
            "X shape: (6125, 48, 48, 1)\n",
            "Y shape: (6125, 5)\n"
          ],
          "name": "stdout"
        }
      ]
    },
    {
      "cell_type": "code",
      "metadata": {
        "colab": {
          "base_uri": "https://localhost:8080/"
        },
        "id": "aAjP_HR23d2Z",
        "outputId": "67f68600-4ec2-46c1-ba75-f65fd26cbf1e"
      },
      "source": [
        "model = Sequential()\n",
        "\n",
        "model.add(Conv2D(64, 3, data_format=\"channels_last\", input_shape=(48, 48, 1)))\n",
        "model.add(BatchNormalization())\n",
        "model.add(Activation(\"relu\"))\n",
        "\n",
        "model.add(Conv2D(64, 3))\n",
        "model.add(BatchNormalization())\n",
        "model.add(Activation(\"relu\"))\n",
        "model.add(MaxPool2D(pool_size=(2, 2), strides=2))\n",
        "model.add(Dropout(0.3))\n",
        "\n",
        "model.add(Conv2D(128, 3))\n",
        "model.add(BatchNormalization())\n",
        "model.add(Activation(\"relu\"))\n",
        "\n",
        "model.add(Conv2D(128, 3))\n",
        "model.add(BatchNormalization())\n",
        "model.add(Activation(\"relu\"))\n",
        "model.add(MaxPool2D(pool_size=(2, 2), strides=2))\n",
        "model.add(Dropout(0.3))\n",
        "\n",
        "model.add(Conv2D(256, 3))\n",
        "model.add(BatchNormalization())\n",
        "model.add(Activation(\"relu\"))\n",
        "\n",
        "model.add(Conv2D(256, 3))\n",
        "model.add(BatchNormalization())\n",
        "model.add(Activation(\"relu\"))\n",
        "model.add(MaxPool2D(pool_size=(2, 2), strides=2))\n",
        "model.add(Dropout(0.3))\n",
        "\n",
        "model.add(Flatten())\n",
        "\n",
        "model.add(Dense(256))\n",
        "model.add(BatchNormalization())\n",
        "model.add(Activation(\"relu\"))\n",
        "model.add(Dropout(0.2))\n",
        "\n",
        "model.add(Dense(128))\n",
        "model.add(BatchNormalization())\n",
        "model.add(Activation(\"relu\"))\n",
        "model.add(Dropout(0.2))\n",
        "\n",
        "model.add(Dense(5))\n",
        "model.add(Activation('softmax'))\n",
        "\n",
        "model.compile(loss='categorical_crossentropy', optimizer='adam', metrics=['accuracy'])\n",
        "model.summary()"
      ],
      "execution_count": null,
      "outputs": [
        {
          "output_type": "stream",
          "text": [
            "Model: \"sequential_3\"\n",
            "_________________________________________________________________\n",
            "Layer (type)                 Output Shape              Param #   \n",
            "=================================================================\n",
            "conv2d_17 (Conv2D)           (None, 46, 46, 64)        640       \n",
            "_________________________________________________________________\n",
            "batch_normalization_18 (Batc (None, 46, 46, 64)        256       \n",
            "_________________________________________________________________\n",
            "activation_20 (Activation)   (None, 46, 46, 64)        0         \n",
            "_________________________________________________________________\n",
            "conv2d_18 (Conv2D)           (None, 44, 44, 64)        36928     \n",
            "_________________________________________________________________\n",
            "batch_normalization_19 (Batc (None, 44, 44, 64)        256       \n",
            "_________________________________________________________________\n",
            "activation_21 (Activation)   (None, 44, 44, 64)        0         \n",
            "_________________________________________________________________\n",
            "max_pooling2d_7 (MaxPooling2 (None, 22, 22, 64)        0         \n",
            "_________________________________________________________________\n",
            "dropout_9 (Dropout)          (None, 22, 22, 64)        0         \n",
            "_________________________________________________________________\n",
            "conv2d_19 (Conv2D)           (None, 20, 20, 128)       73856     \n",
            "_________________________________________________________________\n",
            "batch_normalization_20 (Batc (None, 20, 20, 128)       512       \n",
            "_________________________________________________________________\n",
            "activation_22 (Activation)   (None, 20, 20, 128)       0         \n",
            "_________________________________________________________________\n",
            "conv2d_20 (Conv2D)           (None, 18, 18, 128)       147584    \n",
            "_________________________________________________________________\n",
            "batch_normalization_21 (Batc (None, 18, 18, 128)       512       \n",
            "_________________________________________________________________\n",
            "activation_23 (Activation)   (None, 18, 18, 128)       0         \n",
            "_________________________________________________________________\n",
            "max_pooling2d_8 (MaxPooling2 (None, 9, 9, 128)         0         \n",
            "_________________________________________________________________\n",
            "dropout_10 (Dropout)         (None, 9, 9, 128)         0         \n",
            "_________________________________________________________________\n",
            "conv2d_21 (Conv2D)           (None, 7, 7, 256)         295168    \n",
            "_________________________________________________________________\n",
            "batch_normalization_22 (Batc (None, 7, 7, 256)         1024      \n",
            "_________________________________________________________________\n",
            "activation_24 (Activation)   (None, 7, 7, 256)         0         \n",
            "_________________________________________________________________\n",
            "conv2d_22 (Conv2D)           (None, 5, 5, 256)         590080    \n",
            "_________________________________________________________________\n",
            "batch_normalization_23 (Batc (None, 5, 5, 256)         1024      \n",
            "_________________________________________________________________\n",
            "activation_25 (Activation)   (None, 5, 5, 256)         0         \n",
            "_________________________________________________________________\n",
            "max_pooling2d_9 (MaxPooling2 (None, 2, 2, 256)         0         \n",
            "_________________________________________________________________\n",
            "dropout_11 (Dropout)         (None, 2, 2, 256)         0         \n",
            "_________________________________________________________________\n",
            "flatten_2 (Flatten)          (None, 1024)              0         \n",
            "_________________________________________________________________\n",
            "dense_4 (Dense)              (None, 256)               262400    \n",
            "_________________________________________________________________\n",
            "batch_normalization_24 (Batc (None, 256)               1024      \n",
            "_________________________________________________________________\n",
            "activation_26 (Activation)   (None, 256)               0         \n",
            "_________________________________________________________________\n",
            "dropout_12 (Dropout)         (None, 256)               0         \n",
            "_________________________________________________________________\n",
            "dense_5 (Dense)              (None, 128)               32896     \n",
            "_________________________________________________________________\n",
            "batch_normalization_25 (Batc (None, 128)               512       \n",
            "_________________________________________________________________\n",
            "activation_27 (Activation)   (None, 128)               0         \n",
            "_________________________________________________________________\n",
            "dropout_13 (Dropout)         (None, 128)               0         \n",
            "_________________________________________________________________\n",
            "dense_6 (Dense)              (None, 5)                 645       \n",
            "_________________________________________________________________\n",
            "activation_28 (Activation)   (None, 5)                 0         \n",
            "=================================================================\n",
            "Total params: 1,445,317\n",
            "Trainable params: 1,442,757\n",
            "Non-trainable params: 2,560\n",
            "_________________________________________________________________\n"
          ],
          "name": "stdout"
        }
      ]
    },
    {
      "cell_type": "code",
      "metadata": {
        "colab": {
          "base_uri": "https://localhost:8080/"
        },
        "id": "dXAMjK1z3d2b",
        "outputId": "ee11d338-5825-40ab-8793-4b67bf33ad1c"
      },
      "source": [
        "# save best weights\n",
        "checkpointer = ModelCheckpoint(filepath='face_model.h5', verbose=1, save_best_only=True)\n",
        "\n",
        "# num epochs\n",
        "epochs = 20\n",
        "\n",
        "# run model\n",
        "hist = model.fit(x_train, y_train, epochs=epochs,\n",
        "                 shuffle=True,\n",
        "                 batch_size=100, validation_data=(x_valid, y_valid),\n",
        "                 callbacks=[checkpointer])"
      ],
      "execution_count": null,
      "outputs": [
        {
          "output_type": "stream",
          "text": [
            "Epoch 1/20\n",
            "479/479 [==============================] - 47s 94ms/step - loss: 1.4082 - accuracy: 0.3980 - val_loss: 1.1904 - val_accuracy: 0.4936\n",
            "\n",
            "Epoch 00001: val_loss improved from inf to 1.19042, saving model to face_model.h5\n",
            "Epoch 2/20\n",
            "479/479 [==============================] - 45s 93ms/step - loss: 0.8112 - accuracy: 0.6547 - val_loss: 3.5383 - val_accuracy: 0.3286\n",
            "\n",
            "Epoch 00002: val_loss did not improve from 1.19042\n",
            "Epoch 3/20\n",
            "479/479 [==============================] - 45s 94ms/step - loss: 0.6445 - accuracy: 0.7348 - val_loss: 0.8250 - val_accuracy: 0.6789\n",
            "\n",
            "Epoch 00003: val_loss improved from 1.19042 to 0.82504, saving model to face_model.h5\n",
            "Epoch 4/20\n",
            "479/479 [==============================] - 45s 94ms/step - loss: 0.5550 - accuracy: 0.7726 - val_loss: 0.5880 - val_accuracy: 0.7648\n",
            "\n",
            "Epoch 00004: val_loss improved from 0.82504 to 0.58795, saving model to face_model.h5\n",
            "Epoch 5/20\n",
            "479/479 [==============================] - 45s 94ms/step - loss: 0.4907 - accuracy: 0.8029 - val_loss: 0.5591 - val_accuracy: 0.7713\n",
            "\n",
            "Epoch 00005: val_loss improved from 0.58795 to 0.55911, saving model to face_model.h5\n",
            "Epoch 6/20\n",
            "479/479 [==============================] - 45s 94ms/step - loss: 0.4672 - accuracy: 0.8116 - val_loss: 0.7199 - val_accuracy: 0.7291\n",
            "\n",
            "Epoch 00006: val_loss did not improve from 0.55911\n",
            "Epoch 7/20\n",
            "479/479 [==============================] - 45s 94ms/step - loss: 0.4307 - accuracy: 0.8285 - val_loss: 0.5030 - val_accuracy: 0.7898\n",
            "\n",
            "Epoch 00007: val_loss improved from 0.55911 to 0.50297, saving model to face_model.h5\n",
            "Epoch 8/20\n",
            "479/479 [==============================] - 45s 93ms/step - loss: 0.3932 - accuracy: 0.8425 - val_loss: 0.4437 - val_accuracy: 0.8212\n",
            "\n",
            "Epoch 00008: val_loss improved from 0.50297 to 0.44370, saving model to face_model.h5\n",
            "Epoch 9/20\n",
            "479/479 [==============================] - 45s 93ms/step - loss: 0.3830 - accuracy: 0.8489 - val_loss: 0.4339 - val_accuracy: 0.8274\n",
            "\n",
            "Epoch 00009: val_loss improved from 0.44370 to 0.43387, saving model to face_model.h5\n",
            "Epoch 10/20\n",
            "479/479 [==============================] - 45s 93ms/step - loss: 0.3511 - accuracy: 0.8601 - val_loss: 0.4225 - val_accuracy: 0.8316\n",
            "\n",
            "Epoch 00010: val_loss improved from 0.43387 to 0.42251, saving model to face_model.h5\n",
            "Epoch 11/20\n",
            "479/479 [==============================] - 45s 93ms/step - loss: 0.3403 - accuracy: 0.8690 - val_loss: 0.7889 - val_accuracy: 0.7200\n",
            "\n",
            "Epoch 00011: val_loss did not improve from 0.42251\n",
            "Epoch 12/20\n",
            "479/479 [==============================] - 45s 93ms/step - loss: 0.3218 - accuracy: 0.8733 - val_loss: 0.4860 - val_accuracy: 0.8134\n",
            "\n",
            "Epoch 00012: val_loss did not improve from 0.42251\n",
            "Epoch 13/20\n",
            "479/479 [==============================] - 45s 93ms/step - loss: 0.2974 - accuracy: 0.8843 - val_loss: 0.4678 - val_accuracy: 0.8272\n",
            "\n",
            "Epoch 00013: val_loss did not improve from 0.42251\n",
            "Epoch 14/20\n",
            "479/479 [==============================] - 45s 93ms/step - loss: 0.2770 - accuracy: 0.8922 - val_loss: 0.3891 - val_accuracy: 0.8499\n",
            "\n",
            "Epoch 00014: val_loss improved from 0.42251 to 0.38911, saving model to face_model.h5\n",
            "Epoch 15/20\n",
            "479/479 [==============================] - 45s 93ms/step - loss: 0.2525 - accuracy: 0.9020 - val_loss: 0.4462 - val_accuracy: 0.8270\n",
            "\n",
            "Epoch 00015: val_loss did not improve from 0.38911\n",
            "Epoch 16/20\n",
            "479/479 [==============================] - 45s 93ms/step - loss: 0.2305 - accuracy: 0.9107 - val_loss: 0.4524 - val_accuracy: 0.8321\n",
            "\n",
            "Epoch 00016: val_loss did not improve from 0.38911\n",
            "Epoch 17/20\n",
            "479/479 [==============================] - 45s 93ms/step - loss: 0.2222 - accuracy: 0.9149 - val_loss: 0.4730 - val_accuracy: 0.8231\n",
            "\n",
            "Epoch 00017: val_loss did not improve from 0.38911\n",
            "Epoch 18/20\n",
            "479/479 [==============================] - 45s 93ms/step - loss: 0.2058 - accuracy: 0.9207 - val_loss: 0.4503 - val_accuracy: 0.8410\n",
            "\n",
            "Epoch 00018: val_loss did not improve from 0.38911\n",
            "Epoch 19/20\n",
            "479/479 [==============================] - 45s 93ms/step - loss: 0.1896 - accuracy: 0.9272 - val_loss: 0.4129 - val_accuracy: 0.8524\n",
            "\n",
            "Epoch 00019: val_loss did not improve from 0.38911\n",
            "Epoch 20/20\n",
            "479/479 [==============================] - 45s 93ms/step - loss: 0.1723 - accuracy: 0.9365 - val_loss: 0.4556 - val_accuracy: 0.8449\n",
            "\n",
            "Epoch 00020: val_loss did not improve from 0.38911\n"
          ],
          "name": "stdout"
        }
      ]
    },
    {
      "cell_type": "code",
      "metadata": {
        "colab": {
          "base_uri": "https://localhost:8080/",
          "height": 233
        },
        "id": "CCT51RJh6w2b",
        "outputId": "c1f9bb74-18e9-4448-b94e-025c40920d15"
      },
      "source": [
        "#plot graphs\n",
        "plt.figure(figsize=(14,3))\n",
        "plt.subplot(1, 2, 1)\n",
        "plt.suptitle('Optimizer : Adam', fontsize=10)\n",
        "plt.ylabel('Loss', fontsize=16)\n",
        "plt.plot(hist.history['loss'], color='b', label='Training Loss')\n",
        "plt.plot(hist.history['val_loss'], color='r', label='Validation Loss')\n",
        "plt.legend(loc='upper right')\n",
        "\n",
        "plt.subplot(1, 2, 2)\n",
        "plt.ylabel('Accuracy', fontsize=16)\n",
        "plt.plot(hist.history['accuracy'], color='b', label='Training Accuracy')\n",
        "plt.plot(hist.history['val_accuracy'], color='r', label='Validation Accuracy')\n",
        "plt.legend(loc='lower right')\n",
        "plt.show()"
      ],
      "execution_count": null,
      "outputs": [
        {
          "output_type": "display_data",
          "data": {
            "image/png": "[encoded data removed]",
            "text/plain": [
              "<Figure size 1008x216 with 2 Axes>"
            ]
          },
          "metadata": {
            "tags": [],
            "needs_background": "light"
          }
        }
      ]
    },
    {
      "cell_type": "code",
      "metadata": {
        "colab": {
          "base_uri": "https://localhost:8080/"
        },
        "id": "cxpADyG83d2d",
        "outputId": "34ae964d-8a86-421b-db32-02a0ec19864a"
      },
      "source": [
        "score = model.evaluate(x_test, y_test, verbose=0)\n",
        "score"
      ],
      "execution_count": null,
      "outputs": [
        {
          "output_type": "execute_result",
          "data": {
            "text/plain": [
              "[0.455324649810791, 0.8442448973655701]"
            ]
          },
          "metadata": {
            "tags": []
          },
          "execution_count": 29
        }
      ]
    },
    {
      "cell_type": "code",
      "metadata": {
        "id": "FyWQrAQS3d2d"
      },
      "source": [
        ""
      ],
      "execution_count": null,
      "outputs": []
    }
  ]
}